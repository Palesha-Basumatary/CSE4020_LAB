{
  "nbformat": 4,
  "nbformat_minor": 0,
  "metadata": {
    "colab": {
      "provenance": []
    },
    "kernelspec": {
      "name": "python3",
      "display_name": "Python 3"
    },
    "language_info": {
      "name": "python"
    }
  },
  "cells": [
    {
      "cell_type": "markdown",
      "source": [
        "## LAB TITLE: MACHINE LEARNING$\\;\\;\\;\\;\\;\\;\\;\\;\\;\\;\\;\\;\\;\\;\\;\\;\\;\\;\\;\\;\\;\\;$ LAB CODE: CSE4020$\\;\\;\\;\\;$Assignment No:3"
      ],
      "metadata": {
        "id": "mnwC9gXqCWmx"
      }
    },
    {
      "cell_type": "code",
      "source": [
        "Num, Name = input(\"Reg. Number:\"), input(\"Name:\")"
      ],
      "metadata": {
        "id": "viyX4gH0Cy7o",
        "colab": {
          "base_uri": "https://localhost:8080/"
        },
        "outputId": "a160b791-7f5b-439f-e64d-4cd27386c3c1"
      },
      "execution_count": 1,
      "outputs": [
        {
          "name": "stdout",
          "output_type": "stream",
          "text": [
            "Reg. Number:20BCE1229\n",
            "Name:Palesha Basumatary\n"
          ]
        }
      ]
    },
    {
      "cell_type": "markdown",
      "source": [
        "### Task1: Pandas Refresher\n",
        "* Complete the micro certfication on [Data Visualization](https://www.kaggle.com/learn/data-visualization)\n",
        "\n",
        "### Task2: Matplotlib, Seaborn, Plotly\n",
        "* * Complete the supplied Cheat Sheets\n",
        "\n",
        "### Task3: Data Visualization Practice \n",
        "* Take any dataset of your intrest and visualize with suitable charts.\n",
        "\n"
      ],
      "metadata": {
        "id": "6phbFIhFCYYq"
      }
    },
    {
      "cell_type": "markdown",
      "source": [
        "#### Insert as many code or text cells as you required and implement the given task."
      ],
      "metadata": {
        "id": "wv2i6tTgC5-R"
      }
    },
    {
      "cell_type": "markdown",
      "source": [
        "###MATPLOTLIB"
      ],
      "metadata": {
        "id": "kOnODeIEIXFF"
      }
    },
    {
      "cell_type": "code",
      "source": [
        "import numpy as np\n",
        "import matplotlib.pyplot as plt"
      ],
      "metadata": {
        "id": "GeOmNi_eIQOe"
      },
      "execution_count": null,
      "outputs": []
    },
    {
      "cell_type": "code",
      "source": [
        "##Data preparation for 1-D\n",
        "x = np.linspace(0,10,100)\n",
        "y = np.cos(x)\n",
        "z = np.sin(x)\n"
      ],
      "metadata": {
        "id": "Ayh-UvTrIQds"
      },
      "execution_count": null,
      "outputs": []
    },
    {
      "cell_type": "code",
      "source": [
        "##Data preparation for 2-D\n",
        "data = 2*np.random.random((10,10))\n",
        "data2 = 2*np.random.random((10,10))\n",
        "Y,X = np.mgrid[-3:3:100j, -3:3:100j]\n",
        "U = -1 - X**2 + Y\n",
        "U = 1 + X - Y**2\n",
        "from matplotlib.cbook import get_sample_data\n",
        "img = np.load(get_sample_data('axes_grid/bivariate_normal.npy'))\n",
        "img"
      ],
      "metadata": {
        "colab": {
          "base_uri": "https://localhost:8080/"
        },
        "id": "E4M_i_BLIQs_",
        "outputId": "f6c5afe4-a04d-4f43-8758-8e893fca6d75"
      },
      "execution_count": null,
      "outputs": [
        {
          "output_type": "execute_result",
          "data": {
            "text/plain": [
              "array([[ 5.93115274e-06,  2.34581641e-05,  7.22562324e-05,\n",
              "         1.73333691e-04,  3.23829967e-04,  4.71169822e-04,\n",
              "         5.33905355e-04,  4.71169822e-04,  3.23829967e-04,\n",
              "         1.73333691e-04,  7.22562324e-05,  2.34581641e-05,\n",
              "         5.93115274e-06,  1.16791322e-06,  1.79105293e-07],\n",
              "       [ 3.86759742e-05,  1.52966445e-04,  4.71169822e-04,\n",
              "         1.13027764e-03,  2.11163664e-03,  3.07241318e-03,\n",
              "         3.48150024e-03,  3.07241318e-03,  2.11163664e-03,\n",
              "         1.13027764e-03,  4.71169822e-04,  1.52966445e-04,\n",
              "         3.86759742e-05,  7.61575086e-06,  1.16791322e-06],\n",
              "       [ 1.96412803e-04,  7.76827707e-04,  2.39279779e-03,\n",
              "         5.74002351e-03,  1.07237757e-02,  1.56030016e-02,\n",
              "         1.76805171e-02,  1.56030016e-02,  1.07237757e-02,\n",
              "         5.74002351e-03,  2.39279779e-03,  7.76827707e-04,\n",
              "         1.96412803e-04,  3.86759742e-05,  5.93115273e-06],\n",
              "       [ 7.76827706e-04,  3.07241318e-03,  9.46369884e-03,\n",
              "         2.27022333e-02,  4.24133557e-02,  6.17110684e-02,\n",
              "         6.99278017e-02,  6.17110684e-02,  4.24133557e-02,\n",
              "         2.27022333e-02,  9.46369881e-03,  3.07241315e-03,\n",
              "         7.76827687e-04,  1.52966433e-04,  2.34581575e-05],\n",
              "       [ 2.39279687e-03,  9.46369673e-03,  2.91502403e-02,\n",
              "         6.99277936e-02,  1.30642320e-01,  1.90083453e-01,\n",
              "         2.15392767e-01,  1.90083442e-01,  1.30642301e-01,\n",
              "         6.99277711e-02,  2.91502188e-02,  9.46367925e-03,\n",
              "         2.39278451e-03,  4.71161763e-04,  7.22518585e-05],\n",
              "       [ 5.73979760e-03,  2.27017136e-02,  6.99267314e-02,\n",
              "         1.67746104e-01,  3.13391413e-01,  4.55981750e-01,\n",
              "         5.16694117e-01,  4.55979066e-01,  3.13386756e-01,\n",
              "         1.67740595e-01,  6.99214693e-02,  2.26974368e-02,\n",
              "         5.73677235e-03,  1.12830572e-03,  1.72263432e-04],\n",
              "       [ 1.07034407e-02,  4.23665653e-02,  1.30545991e-01,\n",
              "         3.13217157e-01,  5.85205655e-01,  8.51463249e-01,\n",
              "         9.64753502e-01,  8.51221618e-01,  5.84786441e-01,\n",
              "         3.12721261e-01,  1.30072309e-01,  4.19815824e-02,\n",
              "         1.04311156e-02,  1.93412933e-03,  2.27488324e-04],\n",
              "       [ 1.49295978e-02,  6.01615826e-02,  1.86893076e-01,\n",
              "         4.50108312e-01,  8.42203451e-01,  1.22520158e+00,\n",
              "         1.38566084e+00,  1.21719987e+00,  8.28320999e-01,\n",
              "         4.33686476e-01,  1.71206871e-01,  4.74127008e-02,\n",
              "         5.91143107e-03, -2.80582148e-03, -2.71922723e-03],\n",
              "       [ 9.47677979e-03,  5.10511999e-02,  1.76525800e-01,\n",
              "         4.45088891e-01,  8.47256027e-01,  1.23034767e+00,\n",
              "         1.36158534e+00,  1.13286697e+00,  6.78133136e-01,\n",
              "         2.45029980e-01, -1.45712946e-02, -1.04261975e-01,\n",
              "        -1.00386982e-01, -6.81300580e-02, -3.83330875e-02],\n",
              "       [-2.11635983e-02, -2.28879916e-02,  1.58936955e-02,\n",
              "         1.35045808e-01,  3.22753201e-01,  4.58835523e-01,\n",
              "         3.73909905e-01,  2.19573694e-02, -4.35203013e-01,\n",
              "        -7.61556027e-01, -8.40544065e-01, -7.18953352e-01,\n",
              "        -5.13538820e-01, -3.17868325e-01, -1.73718607e-01],\n",
              "       [-4.98940996e-02, -9.70669141e-02, -1.56548058e-01,\n",
              "        -2.15747157e-01, -2.86909061e-01, -4.35203013e-01,\n",
              "        -7.33894018e-01, -1.15549332e+00, -1.53656759e+00,\n",
              "        -1.69399367e+00, -1.56857521e+00, -1.24468468e+00,\n",
              "        -8.61683600e-01, -5.27030185e-01, -2.86866561e-01],\n",
              "       [-3.10265764e-02, -6.18968267e-02, -1.04261975e-01,\n",
              "        -1.53192662e-01, -2.15747157e-01, -3.24677874e-01,\n",
              "        -5.13927088e-01, -7.61556027e-01, -9.73703370e-01,\n",
              "        -1.04979450e+00, -9.60699736e-01, -7.57962187e-01,\n",
              "        -5.23401798e-01, -3.19810460e-01, -1.74016443e-01],\n",
              "       [-5.81093954e-03, -9.41290296e-03, -9.71674822e-03,\n",
              "        -1.68375655e-03,  1.25748335e-02,  1.58936955e-02,\n",
              "        -1.45712946e-02, -8.15869968e-02, -1.56548058e-01,\n",
              "        -2.01742668e-01, -2.00813843e-01, -1.64726078e-01,\n",
              "        -1.15674702e-01, -7.11403884e-02, -3.87947366e-02],\n",
              "       [ 1.03423940e-04,  1.52292735e-03,  6.27330179e-03,\n",
              "         1.68239987e-02,  3.27217852e-02,  4.74127008e-02,\n",
              "         5.10511999e-02,  3.94109983e-02,  1.88393329e-02,\n",
              "         4.02163249e-04, -9.41290296e-03, -1.12259544e-02,\n",
              "        -8.91474281e-03, -5.72526822e-03, -3.16693889e-03],\n",
              "       [ 1.76077772e-04,  7.30037289e-04,  2.29645615e-03,\n",
              "         5.56251620e-03,  1.04311156e-02,  1.51712283e-02,\n",
              "         1.71104931e-02,  1.49295978e-02,  1.00119019e-02,\n",
              "         5.06661974e-03,  1.82277381e-03,  3.45054418e-04,\n",
              "        -9.62472675e-05, -1.38831332e-04, -9.04104904e-05]])"
            ]
          },
          "metadata": {},
          "execution_count": 4
        }
      ]
    },
    {
      "cell_type": "code",
      "source": [
        "fig = plt.figure()\n",
        "fig2 = plt.figure(figsize = plt.figaspect(2.0))\n",
        "fig2 = plt.figure(figsize = (2.0,2.))"
      ],
      "metadata": {
        "colab": {
          "base_uri": "https://localhost:8080/",
          "height": 69
        },
        "id": "5mdiABGaL0gQ",
        "outputId": "82bdbd01-90ca-4ccb-d3f0-d59b24e88d1a"
      },
      "execution_count": null,
      "outputs": [
        {
          "output_type": "display_data",
          "data": {
            "text/plain": [
              "<Figure size 432x288 with 0 Axes>"
            ]
          },
          "metadata": {}
        },
        {
          "output_type": "display_data",
          "data": {
            "text/plain": [
              "<Figure size 288x576 with 0 Axes>"
            ]
          },
          "metadata": {}
        },
        {
          "output_type": "display_data",
          "data": {
            "text/plain": [
              "<Figure size 144x144 with 0 Axes>"
            ]
          },
          "metadata": {}
        }
      ]
    },
    {
      "cell_type": "code",
      "source": [
        "fig.add_axes()\n",
        "ax1=fig.add_subplot(221)\n",
        "ax3=fig.add_subplot(212)\n",
        "fig\n",
        "fig3,axes = plt.subplots(nrows=2,ncols=2)\n",
        "fig4,axes2 = plt.subplots(nrows=2)"
      ],
      "metadata": {
        "colab": {
          "base_uri": "https://localhost:8080/",
          "height": 521
        },
        "id": "D2E4wdHUN1Cw",
        "outputId": "840c5649-35a2-455a-cd73-b2814e936c42"
      },
      "execution_count": null,
      "outputs": [
        {
          "output_type": "display_data",
          "data": {
            "text/plain": [
              "<Figure size 432x288 with 4 Axes>"
            ],
            "image/png": "[encoded data removed]"
          },
          "metadata": {
            "needs_background": "light"
          }
        },
        {
          "output_type": "display_data",
          "data": {
            "text/plain": [
              "<Figure size 432x288 with 2 Axes>"
            ],
            "image/png": "[encoded data removed]"
          },
          "metadata": {
            "needs_background": "light"
          }
        }
      ]
    },
    {
      "cell_type": "code",
      "source": [
        "plt.savefig('f1.png', transparent = True)\n",
        "plt.show()"
      ],
      "metadata": {
        "colab": {
          "base_uri": "https://localhost:8080/",
          "height": 34
        },
        "id": "u43nSyApOy8M",
        "outputId": "c154a791-6b59-4cf9-c177-81b26fe3ca88"
      },
      "execution_count": null,
      "outputs": [
        {
          "output_type": "display_data",
          "data": {
            "text/plain": [
              "<Figure size 432x288 with 0 Axes>"
            ]
          },
          "metadata": {}
        }
      ]
    },
    {
      "cell_type": "code",
      "source": [
        "fig, ax = plt.subplots()\n",
        "lines = ax.plot(x,y)"
      ],
      "metadata": {
        "colab": {
          "base_uri": "https://localhost:8080/",
          "height": 265
        },
        "id": "rEXzBjM1PZF2",
        "outputId": "b4fecbc6-9777-4a92-d65e-acb6ed6fd59e"
      },
      "execution_count": null,
      "outputs": [
        {
          "output_type": "display_data",
          "data": {
            "text/plain": [
              "<Figure size 432x288 with 1 Axes>"
            ],
            "image/png": "[encoded data removed]"
          },
          "metadata": {
            "needs_background": "light"
          }
        }
      ]
    },
    {
      "cell_type": "code",
      "source": [
        "plt.scatter(x,y)\n",
        "plt.show()"
      ],
      "metadata": {
        "colab": {
          "base_uri": "https://localhost:8080/",
          "height": 265
        },
        "id": "6p-m7Mu5PZTP",
        "outputId": "7af776c2-98e6-4942-c796-b455277035bc"
      },
      "execution_count": null,
      "outputs": [
        {
          "output_type": "display_data",
          "data": {
            "text/plain": [
              "<Figure size 432x288 with 1 Axes>"
            ],
            "image/png": "[encoded data removed]"
          },
          "metadata": {
            "needs_background": "light"
          }
        }
      ]
    },
    {
      "cell_type": "code",
      "source": [
        "ax.scatter(x,y)\n",
        "axes[0,0].bar([1,2,3],[3,4,5]) \n",
        "axes[1,0].barh([0.5,1,2.5],[0,1,2])\n",
        "axes[1,1].axhline(0.45) \n",
        "axes[0,1].axvline(0.65)"
      ],
      "metadata": {
        "colab": {
          "base_uri": "https://localhost:8080/"
        },
        "id": "KlJabqQsPZdm",
        "outputId": "3d768287-5dbd-452b-eab4-0d791a58f616"
      },
      "execution_count": null,
      "outputs": [
        {
          "output_type": "execute_result",
          "data": {
            "text/plain": [
              "<matplotlib.lines.Line2D at 0x7f233a65a700>"
            ]
          },
          "metadata": {},
          "execution_count": 10
        }
      ]
    },
    {
      "cell_type": "code",
      "source": [],
      "metadata": {
        "id": "fN2Ij_z-PZnI"
      },
      "execution_count": null,
      "outputs": []
    },
    {
      "cell_type": "code",
      "source": [],
      "metadata": {
        "id": "A_IEVXhNPZvp"
      },
      "execution_count": null,
      "outputs": []
    },
    {
      "cell_type": "markdown",
      "source": [
        "### For uploading you need to execute the follwing script"
      ],
      "metadata": {
        "id": "5QkdZU7nDK8S"
      }
    },
    {
      "cell_type": "code",
      "source": [
        "from google.colab import auth\n",
        "auth.authenticate_user()\n",
        "import requests\n",
        "gcloud_token = !gcloud auth print-access-token\n",
        "gcloud_tokeninfo = requests.get('https://www.googleapis.com/oauth2/v3/tokeninfo?access_token=' + gcloud_token[0]).json()\n",
        "user = gcloud_tokeninfo['email']\n",
        "import datetime\n",
        "dt = datetime.datetime.now()\n",
        "x = str(dt).split('.')[0]\n",
        "print(f\"This Script is executed by: \",user, \"at\", x)"
      ],
      "metadata": {
        "id": "kTP8q_3QDSJS"
      },
      "execution_count": null,
      "outputs": []
    },
    {
      "cell_type": "markdown",
      "source": [
        "### Congratulations you have reached to the end of the work sheet\n",
        "\n",
        "*  go to file and print as `PDF` and upload the `PDF` it into MS Teams Link"
      ],
      "metadata": {
        "id": "h51gimtuDX1N"
      }
    }
  ]
}